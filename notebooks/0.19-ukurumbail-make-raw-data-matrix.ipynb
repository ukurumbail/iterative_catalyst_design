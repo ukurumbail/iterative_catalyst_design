{
 "cells": [
  {
   "cell_type": "code",
   "execution_count": 1,
   "id": "384a6f87",
   "metadata": {},
   "outputs": [],
   "source": [
    "%load_ext autoreload\n",
    "%autoreload 2\n",
    "%matplotlib inline"
   ]
  },
  {
   "cell_type": "code",
   "execution_count": 4,
   "id": "67fe9db3",
   "metadata": {},
   "outputs": [],
   "source": [
    "import pandas as pd\n",
    "import numpy as np\n",
    "import matplotlib.pyplot as plt\n",
    "import random\n",
    "import scipy.stats as ss\n",
    "\n",
    "from src.data.make_dataset import make_cat_dict\n"
   ]
  },
  {
   "cell_type": "code",
   "execution_count": 7,
   "id": "3b6f53dc",
   "metadata": {},
   "outputs": [
    {
     "name": "stdout",
     "output_type": "stream",
     "text": [
      "Loading in reaction 005\n",
      "Loading in reaction 006\n",
      "Loading in reaction 007\n",
      "Loading in reaction 008\n",
      "Loading in reaction 009\n",
      "Loading in reaction 010\n",
      "Loading in reaction 011\n",
      "Loading in reaction 015\n",
      "Loading in reaction 016\n",
      "Loading in reaction 023\n",
      "Loading in reaction 025\n",
      "Loading in reaction 030\n",
      "Loading in reaction 031\n",
      "Loading in reaction 034\n",
      "Loading in reaction 035\n",
      "Loading in reaction 038\n",
      "Loading in reaction 049\n",
      "Loading in reaction 050\n",
      "Loading in reaction 051\n",
      "Loading in reaction 052\n",
      "Loading in reaction 053\n",
      "Loading in reaction 054\n",
      "Loading in reaction 055\n",
      "Loading in reaction 056\n",
      "Loading in reaction 058\n",
      "Loading in reaction 061\n",
      "Loading in reaction 064\n"
     ]
    }
   ],
   "source": [
    "cats = make_cat_dict(\"Round 8 Predictions.txt\",raw_data_path=\"../data/raw\")"
   ]
  },
  {
   "cell_type": "code",
   "execution_count": 21,
   "id": "98acdc26",
   "metadata": {},
   "outputs": [],
   "source": [
    "df = pd.DataFrame(cats).explode([\"Time\",\"Time Since Start\",\"Conversion\",\"Selectivity\",\"Carbon Balance\"])\n",
    "df[\"Yield\"] = df[\"Conversion\"]*df[\"Selectivity\"]\n",
    "df.to_csv(\"./manuscript_figures/data-matrix-thru-round-7.csv\")"
   ]
  }
 ],
 "metadata": {
  "kernelspec": {
   "display_name": "ml-env",
   "language": "python",
   "name": "ml-env"
  },
  "language_info": {
   "codemirror_mode": {
    "name": "ipython",
    "version": 3
   },
   "file_extension": ".py",
   "mimetype": "text/x-python",
   "name": "python",
   "nbconvert_exporter": "python",
   "pygments_lexer": "ipython3",
   "version": "3.11.7"
  }
 },
 "nbformat": 4,
 "nbformat_minor": 5
}
