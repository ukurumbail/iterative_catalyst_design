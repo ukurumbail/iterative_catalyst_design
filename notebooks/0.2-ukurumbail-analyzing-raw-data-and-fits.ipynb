{
 "cells": [
  {
   "cell_type": "markdown",
   "metadata": {},
   "source": [
    "# This notebook assesses the fit of the exponential decay model for each yield vs time curve"
   ]
  },
  {
   "cell_type": "code",
   "execution_count": 1,
   "metadata": {
    "collapsed": true
   },
   "outputs": [],
   "source": [
    "%load_ext autoreload"
   ]
  },
  {
   "cell_type": "code",
   "execution_count": 2,
   "metadata": {
    "collapsed": true
   },
   "outputs": [],
   "source": [
    "import matplotlib.pyplot as plt\n",
    "import numpy as np\n",
    "import pandas as pd\n",
    "%matplotlib inline\n",
    "from sklearn.linear_model import LinearRegression\n",
    "%autoreload 2\n",
    "from src.data.make_dataset import make_cat_dict,calc_reactor_metrics"
   ]
  },
  {
   "cell_type": "code",
   "execution_count": 5,
   "metadata": {},
   "outputs": [
    {
     "name": "stdout",
     "output_type": "stream",
     "text": [
      "Loading in reaction 002\n",
      "Loading in reaction 003\n",
      "Loading in reaction 004\n",
      "Loading in reaction 005\n",
      "Loading in reaction 006\n",
      "Loading in reaction 007\n",
      "Loading in reaction 008\n",
      "Loading in reaction 009\n",
      "Loading in reaction 010\n",
      "Loading in reaction 011\n"
     ]
    }
   ],
   "source": [
    "#load in reactor data\n",
    "raw_dir = \"C:/Users/Hermans_Desktop1/OneDrive - UW-Madison/Documents/Research/2022-P4 (Pt DH ML)/iterative_catalyst_design/data/raw\"\n",
    "fname = \"Round 1 Predictions.txt\"\n",
    "catalysts = make_cat_dict(fname,raw_data_path=raw_dir)"
   ]
  },
  {
   "cell_type": "code",
   "execution_count": 6,
   "metadata": {
    "collapsed": true
   },
   "outputs": [],
   "source": [
    "#create fits\n",
    "fits = [calc_reactor_metrics(cat) for cat in catalysts]"
   ]
  },
  {
   "cell_type": "code",
   "execution_count": 9,
   "metadata": {
    "collapsed": true
   },
   "outputs": [],
   "source": [
    "def sel_cat(rxn,tube,cats,fits):\n",
    "    #returns data for a selected tube\n",
    "    i = 0\n",
    "    found = False\n",
    "    for cat in cats:\n",
    "        if cat[\"Reaction\"] == rxn and cat[\"Tube\"] == tube:\n",
    "            found=True\n",
    "            break\n",
    "        else:\n",
    "            i+=1\n",
    "    t = np.asarray(cats[i][\"Time Since Start\"])\n",
    "    Y = np.asarray(cats[i][\"Conversion\"])*np.asarray(cats[i][\"Selectivity\"])\n",
    "    Y_pred = fits[i][1]*np.exp(-fits[i][0]*t)\n",
    "    return i,t, Y, Y_pred\n",
    "    "
   ]
  },
  {
   "cell_type": "code",
   "execution_count": 18,
   "metadata": {},
   "outputs": [
    {
     "name": "stdout",
     "output_type": "stream",
     "text": [
      "Y_0-240: -45.05602049664892\n",
      "Y_0-240: 45.05602049664892\n"
     ]
    },
    {
     "data": {
      "image/png": "[encoded data removed]",
      "text/plain": [
       "<Figure size 432x288 with 1 Axes>"
      ]
     },
     "metadata": {},
     "output_type": "display_data"
    }
   ],
   "source": [
    "rxn = '24-003'\n",
    "tube = 3\n",
    "i,t,Y,Y_pred = sel_cat(rxn,tube,catalysts,fits)\n",
    "\n",
    "print(f'Y_0-240: {fits[i][1]/fits[i][0]*(np.exp(-fits[i][0]*240)-np.exp(-fits[i][0]*0))}')\n",
    "print(f'Y_0-240: {fits[i][1]/fits[i][0]*(1-np.exp(-fits[i][0]*240))}')\n",
    "\n",
    "plt.plot(t,Y,\"o\")\n",
    "plt.plot(t,Y_pred)\n",
    "plt.title(f'{catalysts[i][\"Catalyst\"]}')\n",
    "plt.xlabel(\"Time (min)\")\n",
    "plt.ylabel(\"Yield\")\n",
    "plt.show()"
   ]
  }
 ],
 "metadata": {
  "kernelspec": {
   "display_name": "Python 3",
   "language": "python",
   "name": "python3"
  },
  "language_info": {
   "codemirror_mode": {
    "name": "ipython",
    "version": 3
   },
   "file_extension": ".py",
   "mimetype": "text/x-python",
   "name": "python",
   "nbconvert_exporter": "python",
   "pygments_lexer": "ipython3",
   "version": "3.6.3"
  }
 },
 "nbformat": 4,
 "nbformat_minor": 2
}
