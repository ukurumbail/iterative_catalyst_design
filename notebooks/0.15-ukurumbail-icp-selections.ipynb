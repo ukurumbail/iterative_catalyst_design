{
 "cells": [
  {
   "cell_type": "code",
   "execution_count": 1,
   "metadata": {
    "collapsed": true
   },
   "outputs": [],
   "source": [
    "import pandas as pd\n",
    "import numpy as np\n",
    "import matplotlib.pyplot as plt\n",
    "import random\n",
    "import scipy.stats as ss"
   ]
  },
  {
   "cell_type": "code",
   "execution_count": 2,
   "metadata": {
    "collapsed": true
   },
   "outputs": [],
   "source": [
    "from sklearn.gaussian_process import GaussianProcessRegressor,kernels\n",
    "from sklearn.model_selection import train_test_split, KFold,LeaveOneOut\n",
    "from sklearn.preprocessing import StandardScaler\n",
    "from sklearn.pipeline import make_pipeline\n",
    "from sklearn.metrics import mean_absolute_error,mean_squared_error"
   ]
  },
  {
   "cell_type": "code",
   "execution_count": 3,
   "metadata": {
    "collapsed": true
   },
   "outputs": [],
   "source": [
    "%load_ext autoreload\n",
    "%autoreload 2\n",
    "%matplotlib inline"
   ]
  },
  {
   "cell_type": "code",
   "execution_count": 4,
   "metadata": {},
   "outputs": [],
   "source": [
    "from src.models.constants import Constants\n",
    "from src.models import util\n",
    "from src.models.gaussian_process import featurize"
   ]
  },
  {
   "cell_type": "code",
   "execution_count": 5,
   "metadata": {},
   "outputs": [],
   "source": [
    "#plt.style.available"
   ]
  },
  {
   "cell_type": "code",
   "execution_count": 7,
   "metadata": {},
   "outputs": [
    {
     "name": "stdout",
     "output_type": "stream",
     "text": [
      "Num Samples: 50, Num Features: 7\n",
      "Range of y: 4.26 Mean of y: 3.14 SD of y: 1.23\n"
     ]
    },
    {
     "data": {
      "text/html": [
       "<div>\n",
       "<style scoped>\n",
       "    .dataframe tbody tr th:only-of-type {\n",
       "        vertical-align: middle;\n",
       "    }\n",
       "\n",
       "    .dataframe tbody tr th {\n",
       "        vertical-align: top;\n",
       "    }\n",
       "\n",
       "    .dataframe thead th {\n",
       "        text-align: right;\n",
       "    }\n",
       "</style>\n",
       "<table border=\"1\" class=\"dataframe\">\n",
       "  <thead>\n",
       "    <tr style=\"text-align: right;\">\n",
       "      <th></th>\n",
       "      <th>Sn</th>\n",
       "      <th>Ga</th>\n",
       "      <th>Fe</th>\n",
       "      <th>Cu</th>\n",
       "      <th>Ca</th>\n",
       "      <th>diversity</th>\n",
       "      <th>loading</th>\n",
       "    </tr>\n",
       "  </thead>\n",
       "  <tbody>\n",
       "    <tr>\n",
       "      <th>0</th>\n",
       "      <td>0</td>\n",
       "      <td>0</td>\n",
       "      <td>0</td>\n",
       "      <td>0</td>\n",
       "      <td>0</td>\n",
       "      <td>0</td>\n",
       "      <td>0</td>\n",
       "    </tr>\n",
       "    <tr>\n",
       "      <th>1</th>\n",
       "      <td>0</td>\n",
       "      <td>0</td>\n",
       "      <td>0</td>\n",
       "      <td>0</td>\n",
       "      <td>1</td>\n",
       "      <td>1</td>\n",
       "      <td>1</td>\n",
       "    </tr>\n",
       "    <tr>\n",
       "      <th>2</th>\n",
       "      <td>0</td>\n",
       "      <td>0</td>\n",
       "      <td>0</td>\n",
       "      <td>0</td>\n",
       "      <td>4</td>\n",
       "      <td>1</td>\n",
       "      <td>4</td>\n",
       "    </tr>\n",
       "    <tr>\n",
       "      <th>3</th>\n",
       "      <td>0</td>\n",
       "      <td>0</td>\n",
       "      <td>0</td>\n",
       "      <td>0</td>\n",
       "      <td>8</td>\n",
       "      <td>1</td>\n",
       "      <td>8</td>\n",
       "    </tr>\n",
       "    <tr>\n",
       "      <th>4</th>\n",
       "      <td>0</td>\n",
       "      <td>0</td>\n",
       "      <td>0</td>\n",
       "      <td>1</td>\n",
       "      <td>0</td>\n",
       "      <td>1</td>\n",
       "      <td>1</td>\n",
       "    </tr>\n",
       "  </tbody>\n",
       "</table>\n",
       "</div>"
      ],
      "text/plain": [
       "   Sn  Ga  Fe  Cu  Ca  diversity  loading\n",
       "0   0   0   0   0   0          0        0\n",
       "1   0   0   0   0   1          1        1\n",
       "2   0   0   0   0   4          1        4\n",
       "3   0   0   0   0   8          1        8\n",
       "4   0   0   0   1   0          1        1"
      ]
     },
     "execution_count": 7,
     "metadata": {},
     "output_type": "execute_result"
    }
   ],
   "source": [
    "plt.style.use('seaborn-talk')\n",
    "cmap = plt.get_cmap(\"tab10\")\n",
    "raw_dir = \"C:/Users/Hermans_Desktop1/OneDrive - UW-Madison/Documents/Research/2022-P4 (Pt DH ML)/iterative_catalyst_design/data/raw\"\n",
    "processed_dir = \"C:/Users/Hermans_Desktop1/OneDrive - UW-Madison/Documents/Research/2022-P4 (Pt DH ML)/iterative_catalyst_design/data/processed\"\n",
    "n_map = {1:\"Base\",2:\"Thru Rnd 1\",3:\"Thru Rnd 2\",4:\"Thru Rnd 3\",5:\"Thru Rnd 4\",6:\"Thru Rnd 5\",7:\"Thru Rnd 6-GP\"}\n",
    "seed=0\n",
    "fname = f'3-averaged_Round5-Standardized.csv' #Data through Round 6 w. GP\n",
    "f = processed_dir+\"/\"+fname\n",
    "df = pd.read_csv(f,index_col=0)\n",
    "X,y=util.get_Xy(df)\n",
    "print(f'Num Samples: {X.shape[0]}, Num Features: {X.shape[1]}')\n",
    "print(f'Range of y: {max(y)-min(y):.3} Mean of y: {y.mean():.3} SD of y: {y.std():.3}')\n",
    "X.head()\n",
    "\n"
   ]
  },
  {
   "cell_type": "code",
   "execution_count": 10,
   "metadata": {},
   "outputs": [],
   "source": [
    "X,y=util.get_Xy(df)\n",
    "n = X.shape[0]\n",
    "X = X.to_numpy()\n",
    "y = y.to_numpy()\n",
    "y_preds = []\n",
    "y_actuals = []\n",
    "loo = KFold(n_splits=n)\n",
    "for train_index,test_index in loo.split(X):\n",
    "    X_train, X_test = X[train_index], X[test_index]\n",
    "    y_train, y_test = y[train_index], y[test_index]\n",
    "    pipeline = make_pipeline(GaussianProcessRegressor(kernel=1*kernels.RBF(length_scale=1.0,length_scale_bounds=(1e-2,1e2)),n_restarts_optimizer=5,random_state=seed))\n",
    "    pipeline.fit(X_train,y_train)\n",
    "    y_pred = pipeline.predict(X_test)\n",
    "    y_preds.append(y_pred[0])\n",
    "    y_actuals.append(y_test[0])"
   ]
  },
  {
   "cell_type": "code",
   "execution_count": 12,
   "metadata": {
    "collapsed": true
   },
   "outputs": [],
   "source": [
    "y_preds = np.asarray(y_preds)\n",
    "y_actuals = np.asarray(y_actuals)"
   ]
  },
  {
   "cell_type": "code",
   "execution_count": 13,
   "metadata": {},
   "outputs": [
    {
     "data": {
      "image/png": "[encoded data removed]",
      "text/plain": [
       "<matplotlib.figure.Figure at 0x222504c0320>"
      ]
     },
     "metadata": {
      "needs_background": "light"
     },
     "output_type": "display_data"
    }
   ],
   "source": [
    "plt.plot(y_preds, y_actuals, 'o')\n",
    "# plt.plot(y_preds,y_actuals,'o')\n",
    "plt.plot([min(y_preds),max(y_preds)],[min(y_preds),max(y_preds)],'--')\n",
    "plt.xlabel(\"Prediction\")\n",
    "plt.ylabel(\"Experiment\")\n",
    "plt.xlim((min(y_preds)-.5,max(y_preds)+.5))\n",
    "plt.ylim((min(y_preds)-.5,max(y_preds)+.5))\n",
    "plt.title(\"Leave-one-out Cross Validation Score Through Round 4\")\n",
    "plt.show()"
   ]
  },
  {
   "cell_type": "code",
   "execution_count": 24,
   "metadata": {},
   "outputs": [
    {
     "name": "stdout",
     "output_type": "stream",
     "text": [
      "\n",
      "\n",
      "\n",
      "\n",
      "['Sn', 'Ga', 'Fe', 'Cu', 'Ca']\n",
      "Sn: 4 Ga: 0 Fe: 1 Cu: 1 Ca: 1 Pred: 3.77 Act: 3.86 Abs Residual: 0.0927\n",
      "Sn: 4 Ga: 0 Fe: 0 Cu: 4 Ca: 1 Pred: 4.2 Act: 4.06 Abs Residual: 0.143\n",
      "Sn: 0 Ga: 0 Fe: 8 Cu: 0 Ca: 0 Pred: 0.734 Act: 0.588 Abs Residual: 0.146\n",
      "Sn: 8 Ga: 0 Fe: 1 Cu: 0 Ca: 1 Pred: 2.97 Act: 2.82 Abs Residual: 0.149\n",
      "\n",
      "\n",
      "Sn: 0 Ga: 0 Fe: 0 Cu: 8 Ca: 0 Pred: 1.57 Act: 3.92 Abs Residual: 2.35\n",
      "Sn: 0 Ga: 0 Fe: 0 Cu: 0 Ca: 1 Pred: 2.45 Act: 0.578 Abs Residual: 1.87\n",
      "Sn: 0 Ga: 4 Fe: 0 Cu: 4 Ca: 0 Pred: 2.41 Act: 0.805 Abs Residual: 1.61\n",
      "Sn: 0 Ga: 0 Fe: 4 Cu: 0 Ca: 0 Pred: 0.997 Act: 2.5 Abs Residual: 1.5\n",
      "\n",
      "\n",
      "\n",
      "\n",
      "['Sn', 'Ga', 'Fe', 'Cu', 'Ca']\n",
      "Sn: 4 Ga: 0 Fe: 1 Cu: 1 Ca: 1 Pred: 3.77 Act: 3.86 Abs % Residual: 2.4\n",
      "Sn: 4 Ga: 0 Fe: 0 Cu: 4 Ca: 1 Pred: 4.2 Act: 4.06 Abs % Residual: 3.53\n",
      "Sn: 0 Ga: 0 Fe: 1 Cu: 8 Ca: 4 Pred: 3.88 Act: 4.04 Abs % Residual: 3.78\n",
      "Sn: 8 Ga: 0 Fe: 1 Cu: 0 Ca: 1 Pred: 2.97 Act: 2.82 Abs % Residual: 5.29\n",
      "\n",
      "\n",
      "Sn: 0 Ga: 0 Fe: 0 Cu: 0 Ca: 1 Pred: 2.45 Act: 0.578 Abs % Residual: 3.24e+02\n",
      "Sn: 0 Ga: 4 Fe: 0 Cu: 4 Ca: 0 Pred: 2.41 Act: 0.805 Abs % Residual: 2e+02\n",
      "Sn: 0 Ga: 0 Fe: 0 Cu: 0 Ca: 0 Pred: 2.14 Act: 0.749 Abs % Residual: 1.86e+02\n",
      "Sn: 0 Ga: 8 Fe: 0 Cu: 0 Ca: 0 Pred: 0.106 Act: 0.962 Abs % Residual: 89.0\n"
     ]
    }
   ],
   "source": [
    "resids = y_preds - y_actuals\n",
    "abs_resids = np.abs(resids)\n",
    "percent_resids = resids / y_actuals\n",
    "abs_percent_resids = 100*abs_resids / y_actuals\n",
    "\n",
    "for name,resid_list in zip([\"Abs Residual\",\"Abs % Residual\"],[abs_resids,abs_percent_resids]):\n",
    "    print('\\n\\n\\n')\n",
    "    print(Constants().METALS)\n",
    "    sort_indices = np.argsort(resid_list)\n",
    "    for i in range(4):\n",
    "        idx = sort_indices[i]\n",
    "        print(f'Sn: {X[idx,0]} Ga: {X[idx,1]} Fe: {X[idx,2]} Cu: {X[idx,3]} Ca: {X[idx,4]} Pred: {y_preds[idx]:.3} Act: {y_actuals[idx]:.3} {name}: {resid_list[idx]:.3}')\n",
    "    \n",
    "    print('\\n')\n",
    "    for i in range(4):\n",
    "        idx = sort_indices[-(i+1)]\n",
    "        print(f'Sn: {X[idx,0]} Ga: {X[idx,1]} Fe: {X[idx,2]} Cu: {X[idx,3]} Ca: {X[idx,4]} Pred: {y_preds[idx]:.3} Act: {y_actuals[idx]:.3} {name}: {resid_list[idx]:.3}')\n",
    "    "
   ]
  }
 ],
 "metadata": {
  "kernelspec": {
   "display_name": "Python 3",
   "language": "python",
   "name": "python3"
  },
  "language_info": {
   "codemirror_mode": {
    "name": "ipython",
    "version": 3
   },
   "file_extension": ".py",
   "mimetype": "text/x-python",
   "name": "python",
   "nbconvert_exporter": "python",
   "pygments_lexer": "ipython3",
   "version": "3.6.3"
  }
 },
 "nbformat": 4,
 "nbformat_minor": 2
}
